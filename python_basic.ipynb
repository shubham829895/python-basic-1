{
  "cells": [
    {
      "cell_type": "code",
      "execution_count": null,
      "metadata": {
        "id": "z6POCeoE82Nb"
      },
      "outputs": [],
      "source": []
    },
    {
      "cell_type": "markdown",
      "metadata": {
        "id": "kHZZvI_ZOoIX"
      },
      "source": [
        "#Theory Questions"
      ]
    },
    {
      "cell_type": "code",
      "execution_count": null,
      "metadata": {
        "id": "LjrAkDVtOsjH"
      },
      "outputs": [],
      "source": []
    },
    {
      "cell_type": "markdown",
      "metadata": {
        "id": "bJ3WXI-aO1sp"
      },
      "source": [
        "Q. 1 What is Python, and why is it popular?\n",
        "\n",
        "Ans-Python is a popular programming language because it's easy to learn, versatile, and can be used for many applications. It's also efficient and can run on many platforms.\n",
        "\n",
        "Python populaqr in many ways:-\n",
        "\n",
        ".Easy to learn: Python has a simple syntax that's similar to English, making it easy for beginners to learn.\n",
        "\n",
        ".Versatile: Python can be used to create a variety of programs, including websites, software, and applications for data science and machine learning.\n",
        "\n",
        ".Efficient: Python is efficient and can increase development speed.\n",
        "\n",
        ".Cost-effective: Python can be cheaper to use than other programming languages, making it a good choice for starter projects.\n",
        "\n",
        ".Cross-platform compatibility: Python can run on many different platforms etc.\n",
        "\n"
      ]
    },
    {
      "cell_type": "markdown",
      "metadata": {
        "id": "vh9bLDn_QMcD"
      },
      "source": [
        "Q. 2  What is an interpreter in Python?\n",
        "\n",
        "Ans- A Python interpreter is a program that reads and executes Python code. It translates Python code into machine code that the computer can understand.\n",
        "\n"
      ]
    },
    {
      "cell_type": "markdown",
      "metadata": {
        "id": "am1gRrlvQpoa"
      },
      "source": [
        "Q. 3 What are pre-defined keywords in Python?\n",
        "\n",
        "Ans- Predefined keywords in Python are special words with specific meanings that cannot be changed. They are part of Python's syntax and cannot be used as identifiers, such as variable names, function names, or class names.\n",
        "\n",
        "Here are some examples of predefined keywords in Python:\n",
        "\n",
        "ambda: Used to create inline functions that return values\n",
        "\n",
        "Else: Used with conditional if statements and loops to specify code to run if the condition is false or the loop exits normally\n",
        "\n",
        "Not: A logical operator etc."
      ]
    },
    {
      "cell_type": "markdown",
      "metadata": {
        "id": "s0N_TZ6ARS25"
      },
      "source": [
        "Q. 4 Can keywords be used as variable names?\n",
        "\n",
        "Ans- No, keywords cannot be used as variable names in programming languages like Python and C. Keywords are reserved words that define the structure and syntax of a language, and are used to recognize the program's structure."
      ]
    },
    {
      "cell_type": "markdown",
      "metadata": {
        "id": "uatYrUOjRiyA"
      },
      "source": [
        "Q. 5 What is mutability in Python?\n",
        "\n",
        "Ans- In Python, mutability is the ability of an object to change after it has been created. Mutable objects can be modified in terms of their state or contents."
      ]
    },
    {
      "cell_type": "markdown",
      "metadata": {
        "id": "RV-KgmW6R02Q"
      },
      "source": [
        "Q. 6 0 Why are lists mutable, but tuples are immutable?\n",
        "\n",
        "Ans- The main difference between tuples and lists is that tuples are immutable, meaning their contents cannot be changed after creation, while lists are mutable and can be modified. Additionally, tuples are more memory-efficient compared to lists. Tuples can't be changed after they're created, but lists can be modified."
      ]
    },
    {
      "cell_type": "markdown",
      "metadata": {
        "id": "m7EjArY7SXNw"
      },
      "source": [
        "Q. 7 What is the difference between “==” and “is” operators in Python?\n",
        "\n",
        "Ans- In Python, == and is operators are both used for comparison but they serve different purposes. The == operator checks for equality of values which means it evaluates whether the values of two objects are the same. On the other hand, is operator checks for identity, meaning it determines whether two variables point to the same object in memory."
      ]
    },
    {
      "cell_type": "markdown",
      "metadata": {
        "id": "vQzwHjnBOtfL"
      },
      "source": []
    },
    {
      "cell_type": "markdown",
      "metadata": {
        "id": "-lB2FAsXSrcB"
      },
      "source": [
        "Q. 8 What are logical operators in Python?\n",
        "\n",
        "Ans- Python logical operators are used to combine conditional statements, allowing you to perform operations based on multiple conditions. These Python operators, alongside arithmetic operators, are special symbols used to carry out computations on values and variables. In this article, we will discuss logical operators in Python definition and also look at some Python logical operators programs, to completely grasp the concept.\n",
        "\n",
        "in other word Logical operators in Python are keywords that evaluate conditions in expressions. They are also known as Boolean operators.\n",
        "\n",
        "\n"
      ]
    },
    {
      "cell_type": "markdown",
      "metadata": {
        "id": "gTGAdG6xTMjY"
      },
      "source": [
        "Q. 9 What is type casting in Python?\n",
        "\n",
        "Ans- One of the key features in Python is \"Typecasting\". Typecasting in Python allows programmers to convert variables or data from one data type to another. It enables smooth manipulation of data. Typecasting in Python can be very useful in dealing with large data sets where the data is present in different data types. Also, by leveraging the power of typecasting in Python, we can convert mutable datatypes into immutable ones and vice versa.\n",
        "\n",
        "Suppose you want to store some user ids and passwords. You wouldn't like to store them in mutable data types and allow someone to change them. Here, you can typecast those mutable variables into immutable ones and secure those ids and passwords.\n",
        "\n",
        "And most of the time, we typecast while taking inputs from the user. As we all know, in Python, all the inputs stored are in the form of strings. We typecast these inputs according to our specific requirements."
      ]
    },
    {
      "cell_type": "markdown",
      "metadata": {
        "id": "tqXDpu-UTnZo"
      },
      "source": [
        "Q. 10 What is the difference between implicit and explicit type casting?\n",
        "\n",
        "Ans- An implicit type conversion is automatically performed by the compiler when differing data types are intermixed in an expression. An explicit type conversion is user-defined conversion that forces an expression to be of specific type.\n",
        "\n",
        "but An implicit type conversion is performed without programmer's intervention. An explicit type conversion is specified explicitly by the programmer."
      ]
    },
    {
      "cell_type": "markdown",
      "metadata": {
        "id": "Xyx67tgtUJuS"
      },
      "source": [
        "Q. 11  What is the purpose of conditional statements in Python?\n",
        "\n",
        "Ans- Conditional statements in Python are used to execute certain blocks of code based on specific conditions. These statements help control the flow of a program, making it behave differently in different situations. in other wordIn Python, conditional statements are used to control the flow of a program by executing specific blocks of code only when certain conditions are met, essentially allowing the program to make decisions based on different situations and input values; they are a fundamental tool for creating dynamic and flexible programs."
      ]
    },
    {
      "cell_type": "markdown",
      "metadata": {
        "id": "blyVW95QUhIo"
      },
      "source": [
        "Q. 12  How does the elif statement work?\n",
        "\n",
        "Ans- The “elif” keyword in Python, stands for “else if”. It can be used in conditional statements to check for multiple conditions. For example, if the first condition is false, it moves on to the next “elif” statement to check if that condition is true."
      ]
    },
    {
      "cell_type": "markdown",
      "metadata": {
        "id": "cX7g31m8U3qy"
      },
      "source": [
        "Q. 13 What is the difference between for and while loops?\n",
        "\n",
        "Ans- The main difference between a for loop and a while loop is that a for loop repeats a section of code a known number of times, while a while loop repeats it an unknown number of times.In other word for' loops are well-suited for structured tasks with a known number of iterations, while 'while' loops are better for more complicated looping requirements and dynamic conditions.\n"
      ]
    },
    {
      "cell_type": "markdown",
      "metadata": {
        "id": "BJRApZQ-VTgv"
      },
      "source": [
        "Q. 14 Describe a scenario where a while loop is more suitable than a for loop?\n",
        "\n",
        "Ans- se a for loop when you know the loop should execute n times. Use a while loop for reading a file into a variable. Use a while loop when asking for user input. Use a while loop when the increment value is nonstandard in other word With that said, my universal rule for choosing between a while loop and for loop is that I use while loops when I do not know the number of iterations ahead of time and for loops"
      ]
    },
    {
      "cell_type": "markdown",
      "metadata": {
        "id": "z-9xBo_vV3yn"
      },
      "source": [
        "#Practical Questions"
      ]
    },
    {
      "cell_type": "code",
      "source": [
        "# 1 Write a Python program to print \"Hello, World!\"\n",
        "print(\"hello world\")"
      ],
      "metadata": {
        "colab": {
          "base_uri": "https://localhost:8080/"
        },
        "id": "ExPI2SF1lvE8",
        "outputId": "5880219a-fb78-4c31-b155-a57b06d6a6c6"
      },
      "execution_count": null,
      "outputs": [
        {
          "output_type": "stream",
          "name": "stdout",
          "text": [
            "hello world\n"
          ]
        }
      ]
    },
    {
      "cell_type": "code",
      "source": [
        "# 2  Write a Python program that displays your name and age\n",
        "name = input(\"enter your name\")\n",
        "age = int(input(\"enter your age\"))\n",
        "print(name,age)"
      ],
      "metadata": {
        "colab": {
          "base_uri": "https://localhost:8080/"
        },
        "id": "nnB-7cOBmFFD",
        "outputId": "ceb348da-46ea-4785-efb8-69f88faa3f9c"
      },
      "execution_count": null,
      "outputs": [
        {
          "output_type": "stream",
          "name": "stdout",
          "text": [
            "enter your nameshubham\n",
            "enter your age22\n",
            "shubham 22\n"
          ]
        }
      ]
    },
    {
      "cell_type": "code",
      "source": [
        "# 3 Write code to print all the pre-defined keywords in Python using the keyword library ?\n",
        "import keyword\n",
        "print(keyword.kwlist)\n",
        "\n",
        "\n",
        "\n",
        "\n"
      ],
      "metadata": {
        "id": "GM-Pzy1cnPOg",
        "outputId": "3dda17c3-01cc-4a00-ceeb-2ebf47c3f418",
        "colab": {
          "base_uri": "https://localhost:8080/"
        }
      },
      "execution_count": null,
      "outputs": [
        {
          "output_type": "stream",
          "name": "stdout",
          "text": [
            "['False', 'None', 'True', 'and', 'as', 'assert', 'async', 'await', 'break', 'class', 'continue', 'def', 'del', 'elif', 'else', 'except', 'finally', 'for', 'from', 'global', 'if', 'import', 'in', 'is', 'lambda', 'nonlocal', 'not', 'or', 'pass', 'raise', 'return', 'try', 'while', 'with', 'yield']\n"
          ]
        }
      ]
    },
    {
      "cell_type": "code",
      "source": [
        "# 4 Write a program that checks if a given word is a Python keyword ?\n",
        "import keyword\n",
        "def check_keyword(word):\n",
        "  if keyword.iskeyword(word):\n",
        "    print(f\"{word} is a keyword\")\n",
        "  else:\n",
        "    print(f\"{word} is not a keyword\")\n",
        "check_keyword(\"True\")"
      ],
      "metadata": {
        "id": "BDjUan2JLgLD",
        "colab": {
          "base_uri": "https://localhost:8080/"
        },
        "outputId": "5939e8c8-5774-4a01-ffbb-83d78bd19f75"
      },
      "execution_count": 2,
      "outputs": [
        {
          "output_type": "stream",
          "name": "stdout",
          "text": [
            "True is a keyword\n"
          ]
        }
      ]
    },
    {
      "cell_type": "code",
      "source": [
        "# 5 Create a list and tuple in Python, and demonstrate how attempting to change an element works differently for each ?\n",
        "my_list = [10, 20, 30]\n",
        "print(\"Original List:\", my_list)\n",
        "my_list[1] = 40\n",
        "print(\"Modified List:\", my_list)\n",
        "my_tuple = (10, 20, 30)\n",
        "print(\"Original Tuple:\", my_tuple)\n",
        "try:\n",
        "  my_tuple[1] = 40\n",
        "except TypeError as e:\n",
        "  print(\"Error:\", e)\n",
        "\n",
        ""
      ],
      "metadata": {
        "colab": {
          "base_uri": "https://localhost:8080/"
        },
        "id": "vnLeQKxPNSnh",
        "outputId": "10c2b067-74e2-43f7-c3ef-54ca6a5530a1"
      },
      "execution_count": 4,
      "outputs": [
        {
          "output_type": "stream",
          "name": "stdout",
          "text": [
            "Original List: [10, 20, 30]\n",
            "Modified List: [10, 40, 30]\n",
            "Original Tuple: (10, 20, 30)\n",
            "Error: 'tuple' object does not support item assignment\n"
          ]
        }
      ]
    },
    {
      "cell_type": "code",
      "source": [
        "# 6 Write a function to demonstrate the behavior of mutable and immutable arguments\n",
        "def modify_list(my_list):\n",
        "  my_list.append(4)\n",
        "my_list = [1, 2, 3]\n",
        "modify_list(my_list)\n",
        "print(my_list)\n"
      ],
      "metadata": {
        "colab": {
          "base_uri": "https://localhost:8080/"
        },
        "id": "5bPNUgbUmpoG",
        "outputId": "f4f40bd7-bd29-4909-e2d9-9dfeba66cc17"
      },
      "execution_count": 1,
      "outputs": [
        {
          "output_type": "stream",
          "name": "stdout",
          "text": [
            "[1, 2, 3, 4]\n"
          ]
        }
      ]
    },
    {
      "cell_type": "code",
      "source": [
        "# 7 Write a function to demonstrate the behavior of mutable and immutable arguments\n",
        "def modify_string(my_string):\n",
        "  my_string += \" world\"\n",
        "my_string = \"Hello\"\n",
        "modify_string(my_string)\n",
        "print(my_string)"
      ],
      "metadata": {
        "colab": {
          "base_uri": "https://localhost:8080/"
        },
        "id": "WIoOT9FDVAmS",
        "outputId": "756d1a42-af9b-4a07-aaf7-6d73f4eb5495"
      },
      "execution_count": 2,
      "outputs": [
        {
          "output_type": "stream",
          "name": "stdout",
          "text": [
            "Hello\n"
          ]
        }
      ]
    },
    {
      "cell_type": "code",
      "source": [
        "# 8 Write a program to demonstrate the use of logical operators\n",
        "age = int(input(\"enter your age: \"))\n",
        "salary = int(input(\"enter your salary: \"))\n",
        "if age > 18 and salary > 50000:\n",
        "  print(\"you are eligible for loan\")\n",
        "else:\n",
        "  print(\"you are not eligible for loan\")\n",
        "if age > 18 or salary > 50000:\n",
        "  print(\"you are eligible for at least one benefit. \")\n",
        "else:\n",
        "  print(\"you are not eligiblr for any benifit. \")\n",
        "if not (age > 18):\n",
        "  print(\"you are a minor .\")\n",
        "else:\n",
        "  print(\"you are an adult. \")"
      ],
      "metadata": {
        "colab": {
          "base_uri": "https://localhost:8080/"
        },
        "id": "C1UHt5QOVSSs",
        "outputId": "2c28a461-b20d-4af0-9464-3e334b5c8dd1"
      },
      "execution_count": 3,
      "outputs": [
        {
          "output_type": "stream",
          "name": "stdout",
          "text": [
            "enter your age: 25\n",
            "enter your salary: 60000\n",
            "you are eligible for loan\n",
            "you are eligible for at least one benefit. \n",
            "you are an adult. \n"
          ]
        }
      ]
    },
    {
      "cell_type": "code",
      "source": [
        "# 9 Write a Python program to convert user input from string to integer, float, and boolean types\n",
        "user_input = input(\"enter a number: \")\n",
        "integer_value = int(float(user_input))\n",
        "print(\"integer value:\", integer_value)\n",
        "float_value = float(user_input)\n",
        "print(\"float value:\", float_value)\n",
        "boolean_value = bool(user_input)\n",
        "print(\"boolean value:\", boolean_value)"
      ],
      "metadata": {
        "id": "CkMukVdyZBY1",
        "outputId": "1414f56c-86c6-4ec1-bb40-19c530747a37",
        "colab": {
          "base_uri": "https://localhost:8080/"
        }
      },
      "execution_count": 6,
      "outputs": [
        {
          "output_type": "stream",
          "name": "stdout",
          "text": [
            "enter a number: 12.8\n",
            "integer value: 12\n",
            "float value: 12.8\n",
            "boolean value: True\n"
          ]
        }
      ]
    },
    {
      "cell_type": "code",
      "source": [
        "# 10 Write code to demonstrate type casting with list elements\n",
        "str_list = [\"10\" , \"20\" , \"30\" , \"40.7\" , \"0\" , \"-5\"]\n",
        "int_list = [int(float(num)) for num in str_list]\n",
        "print(\"integer list:\", int_list)\n",
        "float_list = [float(num) for num in str_list]\n",
        "print(\"float list:\", float_list)\n",
        "bool_list = [bool(num) for num in str_list]\n",
        "print(\"boolean List:\", bool_list)\n",
        ""
      ],
      "metadata": {
        "id": "wSLuY1KfZ1gR",
        "outputId": "e25595db-7c82-4c9a-f94c-fa57999edb64",
        "colab": {
          "base_uri": "https://localhost:8080/"
        }
      },
      "execution_count": 9,
      "outputs": [
        {
          "output_type": "stream",
          "name": "stdout",
          "text": [
            "integer list: [10, 20, 30, 40, 0, -5]\n",
            "float list: [10.0, 20.0, 30.0, 40.7, 0.0, -5.0]\n",
            "boolean List: [True, True, True, True, True, True]\n"
          ]
        }
      ]
    },
    {
      "cell_type": "code",
      "source": [
        "# 11 Write a program that checks if a number is positive, negative, or zero\n",
        "num = int(input(\"enter a number: \"))\n",
        "if num > 0:\n",
        "  print(\"the number is positive\")\n",
        "elif num < 0:\n",
        "  print(\"the number is negative\")\n",
        "else:\n",
        "  print(\"the number is zero\")"
      ],
      "metadata": {
        "id": "TcnFBsgccOCz",
        "outputId": "fd1d81b5-475c-4d60-ef07-16922b47da76",
        "colab": {
          "base_uri": "https://localhost:8080/"
        }
      },
      "execution_count": 11,
      "outputs": [
        {
          "output_type": "stream",
          "name": "stdout",
          "text": [
            "enter a number: 25\n",
            "the number is positive\n"
          ]
        }
      ]
    },
    {
      "cell_type": "code",
      "source": [
        "# 12 Write a for loop to print numbers from 1 to 100\n",
        "for num in range(1, 101):\n",
        "  print(num, end=\" \")"
      ],
      "metadata": {
        "id": "eGXGi8Mqcmxe",
        "outputId": "31b15f53-38bd-4b9c-ea3e-dcba4c27f50c",
        "colab": {
          "base_uri": "https://localhost:8080/"
        }
      },
      "execution_count": 16,
      "outputs": [
        {
          "output_type": "stream",
          "name": "stdout",
          "text": [
            "1 2 3 4 5 6 7 8 9 10 11 12 13 14 15 16 17 18 19 20 21 22 23 24 25 26 27 28 29 30 31 32 33 34 35 36 37 38 39 40 41 42 43 44 45 46 47 48 49 50 51 52 53 54 55 56 57 58 59 60 61 62 63 64 65 66 67 68 69 70 71 72 73 74 75 76 77 78 79 80 81 82 83 84 85 86 87 88 89 90 91 92 93 94 95 96 97 98 99 100 "
          ]
        }
      ]
    },
    {
      "cell_type": "code",
      "source": [
        "# 13 Write a Python program to find the sum of all even numbers between 1 and 50\n",
        "sum_even = 0\n",
        "for num in range(2, 51, 2):\n",
        "  sum_even += num\n",
        "print(\"sum of even numbers between 1 and 50:\", sum_even)"
      ],
      "metadata": {
        "id": "TLHNb5gEdNa-",
        "outputId": "37838fdd-e2f1-46e9-94a9-13fa6d1e9fbe",
        "colab": {
          "base_uri": "https://localhost:8080/"
        }
      },
      "execution_count": 17,
      "outputs": [
        {
          "output_type": "stream",
          "name": "stdout",
          "text": [
            "sum of even numbers between 1 and 50: 650\n"
          ]
        }
      ]
    },
    {
      "cell_type": "code",
      "source": [
        "# 14 Write a program to reverse a string using a while loop\n",
        "str = input(\"enter a string: \")\n",
        "reversed_str = \"\"\n",
        "index = len(str) - 1\n",
        "while index >= 0:\n",
        "  reversed_str += str[index]\n",
        "  index -= 1\n",
        "print(\"reversed string:\", reversed_str)"
      ],
      "metadata": {
        "id": "PvWaQTWre2Wo",
        "outputId": "635cbb2d-9f11-4c3d-83f4-1c50c27dbe98",
        "colab": {
          "base_uri": "https://localhost:8080/"
        }
      },
      "execution_count": 18,
      "outputs": [
        {
          "output_type": "stream",
          "name": "stdout",
          "text": [
            "enter a string: python\n",
            "reversed string: nohtyp\n"
          ]
        }
      ]
    },
    {
      "cell_type": "code",
      "source": [
        "# 15 Write a Python program to calculate the factorial of a number provided by the user using a while loop\n",
        "num = int(input(\"enter a number: \"))\n",
        "factorial = 1\n",
        "while num > 0:\n",
        "  factorial *= num\n",
        "  num -= 1\n",
        "print(\"factorial:\", factorial)"
      ],
      "metadata": {
        "id": "Oh_Edj9Qe-Lm",
        "outputId": "0854f6a2-3165-4e03-9ca4-52b5e95e9fa1",
        "colab": {
          "base_uri": "https://localhost:8080/"
        }
      },
      "execution_count": 19,
      "outputs": [
        {
          "output_type": "stream",
          "name": "stdout",
          "text": [
            "enter a number: 5\n",
            "factorial: 120\n"
          ]
        }
      ]
    },
    {
      "cell_type": "code",
      "source": [],
      "metadata": {
        "id": "ZQfknZF_fjaF"
      },
      "execution_count": null,
      "outputs": []
    }
  ],
  "metadata": {
    "colab": {
      "provenance": []
    },
    "kernelspec": {
      "display_name": "Python 3",
      "name": "python3"
    },
    "language_info": {
      "name": "python"
    }
  },
  "nbformat": 4,
  "nbformat_minor": 0
}